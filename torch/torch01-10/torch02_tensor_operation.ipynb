{
  "nbformat": 4,
  "nbformat_minor": 0,
  "metadata": {
    "colab": {
      "provenance": [],
      "gpuType": "T4"
    },
    "kernelspec": {
      "name": "python3",
      "display_name": "Python 3"
    },
    "language_info": {
      "name": "python"
    },
    "accelerator": "GPU"
  },
  "cells": [
    {
      "cell_type": "markdown",
      "source": [
        "# 텐서의 연산(Operations)\n",
        "*   텐서에 대한 수학연산, 삼각함수, 비트연산, 집계\n",
        "\n"
      ],
      "metadata": {
        "id": "_6ORhj-wOEbj"
      }
    },
    {
      "cell_type": "code",
      "source": [
        "import math\n",
        "import torch\n",
        "a=torch.rand(1,2)\n",
        "print(a) # tensor([[0.5143, 0.1689]])\n",
        "a=torch.rand(1,2)*2 -1\n",
        "print(a) # tensor([[0.0686, 0.0326]])\n",
        "a=a*2 -1\n",
        "print(a) # tensor([[-0.8627, -0.9348]])\n",
        "print(torch.abs(a))  # tensor([[0.8627, 0.9348]]) # 절대값\n",
        "print(torch.ceil(a)) # tensor([[-0., -0.]])       # 올림한 값\n",
        "print(torch.floor(a)) # tensor([[-1., -1.]])      #  내림한 값\n",
        "print(torch.clamp(a,-0.5,0.5)) # tensor([[-0.5000, -0.5000]])\n",
        "# clamp는 최소 -0.5에서 0.5 사이 값으로 만들어줌\n",
        "# 최대 값을 넘으면 최대값으로 최소값을 넘으면 최소값으로\n",
        "# 한정적으로 만들어줌"
      ],
      "metadata": {
        "colab": {
          "base_uri": "https://localhost:8080/"
        },
        "id": "03aYMMfXOEf5",
        "outputId": "568d8b2f-6b23-4aae-90f7-52a03997aa55"
      },
      "execution_count": 7,
      "outputs": [
        {
          "output_type": "stream",
          "name": "stdout",
          "text": [
            "tensor([[0.5143, 0.1689]])\n",
            "tensor([[0.0686, 0.0326]])\n",
            "tensor([[-0.8627, -0.9348]])\n",
            "tensor([[0.8627, 0.9348]])\n",
            "tensor([[-0., -0.]])\n",
            "tensor([[-1., -1.]])\n",
            "tensor([[-0.5000, -0.5000]])\n"
          ]
        }
      ]
    },
    {
      "cell_type": "code",
      "source": [
        "print(a)\n",
        "print(torch.min(a)) #최소값\n",
        "print(torch.max(a)) # 최대값\n",
        "print(torch.mean(a)) # 평균값\n",
        "print(torch.std(a)) # 표준 편차\n",
        "print(torch.prod(a)) # a의 모든 원소를 곱한 결과를 반환하는 함수\n",
        "print(torch.unique(torch.tensor([1,2,4,1,2,3])))\n",
        "'''\n",
        "torch.unique() 함수는 주어진 텐서의 고유한(unique) 원소들을 반환하는 함수입니다.\n",
        "중복되지 않은 원소들만 반환되며, 원소들은 반환되는 순서대로 고유성이 보장됩니다.\n",
        "주어진 입력 텐서 [1,2,4,1,2,3]에 대해 torch.unique() 함수를 사용하면 중복을 제거한 고유한 원소들이 반환됩니다.\n",
        "결과는 오름차순으로 정렬되어 나타납니다. 따라서 출력은 [1, 2, 3, 4]가 될 것입니다.\n",
        "'''"
      ],
      "metadata": {
        "id": "5GNt1pDOOvfp",
        "colab": {
          "base_uri": "https://localhost:8080/",
          "height": 174
        },
        "outputId": "7c32b218-b2e3-4920-d447-b9996bd0f0bd"
      },
      "execution_count": 11,
      "outputs": [
        {
          "output_type": "stream",
          "name": "stdout",
          "text": [
            "tensor([[-0.8627, -0.9348]])\n",
            "tensor(-0.9348)\n",
            "tensor(-0.8627)\n",
            "tensor(-0.8988)\n",
            "tensor(0.0510)\n",
            "tensor(0.8065)\n",
            "tensor([1, 2, 3, 4])\n"
          ]
        },
        {
          "output_type": "execute_result",
          "data": {
            "text/plain": [
              "'\\ntorch.unique() 함수는 주어진 텐서의 고유한(unique) 원소들을 반환하는 함수입니다. \\n중복되지 않은 원소들만 반환되며, 원소들은 반환되는 순서대로 고유성이 보장됩니다.\\n주어진 입력 텐서 [1, 2, 3, 1, 2, 2]에 대해 torch.unique() 함수를 사용하면 중복을 제거한 고유한 원소들이 반환됩니다.\\n결과는 오름차순으로 정렬되어 나타납니다. 따라서 출력은 [1, 2, 3]가 될 것입니다.\\n'"
            ],
            "application/vnd.google.colaboratory.intrinsic+json": {
              "type": "string"
            }
          },
          "metadata": {},
          "execution_count": 11
        }
      ]
    },
    {
      "cell_type": "markdown",
      "source": [
        "max와 min은 dim인자를 줄 경우 argmax와 argmin도 함께 리턴\n",
        "*   argmax : 최대값을 가진 인덱스\n",
        "*   argmin : 최소값을 가진 인덱스\n",
        "\n"
      ],
      "metadata": {
        "id": "R5Yl2cCNOEmJ"
      }
    },
    {
      "cell_type": "code",
      "source": [
        "x = torch.rand(2,3)\n",
        "print(x)\n",
        "print(x.max(dim=0))\n",
        "print(x.max(dim=1)) # dim =1이란 열 기준\n",
        "'''\n",
        "요약하면, 제공한 코드는 torch.max 함수를 사용하여\n",
        "텐서의 특정 차원을 따라 최대값과 해당 인덱스를 찾는 방법을 보여줍니다.\n",
        "첫 번째 호출은 두 번째 차원을 따라 최대값을 찾고,\n",
        " 두 번째 호출은 첫 번째 차원을 따라 최대값을 찾습니다.\n",
        " (2,3) 이니까 앞에서 1원 0차원 순서로\n",
        " '''"
      ],
      "metadata": {
        "id": "ekIwiREwOEqJ",
        "colab": {
          "base_uri": "https://localhost:8080/"
        },
        "outputId": "10f9fd73-8857-42be-ca17-23612fa3f943"
      },
      "execution_count": 18,
      "outputs": [
        {
          "output_type": "stream",
          "name": "stdout",
          "text": [
            "tensor([[0.4533, 0.6434, 0.1314],\n",
            "        [0.6593, 0.6297, 0.8909]])\n",
            "torch.return_types.max(\n",
            "values=tensor([0.6593, 0.6434, 0.8909]),\n",
            "indices=tensor([1, 0, 1]))\n",
            "torch.return_types.max(\n",
            "values=tensor([0.6434, 0.8909]),\n",
            "indices=tensor([1, 2]))\n"
          ]
        }
      ]
    },
    {
      "cell_type": "markdown",
      "source": [],
      "metadata": {
        "id": "PmSJiU1uOEvj"
      }
    },
    {
      "cell_type": "code",
      "source": [
        "print(x)\n",
        "print(x.min(dim=0))\n",
        "print(x.min(dim=1))"
      ],
      "metadata": {
        "id": "BwILlPDAOEzs",
        "colab": {
          "base_uri": "https://localhost:8080/"
        },
        "outputId": "6e3a01b8-4ff8-4831-faa0-50d636de1d24"
      },
      "execution_count": 19,
      "outputs": [
        {
          "output_type": "stream",
          "name": "stdout",
          "text": [
            "tensor([[0.4533, 0.6434, 0.1314],\n",
            "        [0.6593, 0.6297, 0.8909]])\n",
            "torch.return_types.min(\n",
            "values=tensor([0.4533, 0.6297, 0.1314]),\n",
            "indices=tensor([0, 1, 0]))\n",
            "torch.return_types.min(\n",
            "values=tensor([0.1314, 0.6297]),\n",
            "indices=tensor([2, 1]))\n"
          ]
        }
      ]
    },
    {
      "cell_type": "markdown",
      "source": [
        "torch.add : 덧셈\n"
      ],
      "metadata": {
        "id": "4mF4WptJLSnP"
      }
    },
    {
      "cell_type": "code",
      "source": [
        "x = torch.rand(2,2)\n",
        "print(x)\n",
        "y = torch.rand(2,2)\n",
        "print(y)\n",
        "z = x+y\n",
        "print(z)\n",
        "result =torch.empty(2,4)\n",
        "torch.add(x,y,out=result)\n",
        "print('result : ',result)"
      ],
      "metadata": {
        "colab": {
          "base_uri": "https://localhost:8080/"
        },
        "id": "Rt0MCiDCLEb0",
        "outputId": "82ad2ccd-2af6-4984-d1c4-938f0ec56941"
      },
      "execution_count": 25,
      "outputs": [
        {
          "output_type": "stream",
          "name": "stdout",
          "text": [
            "tensor([[0.4519, 0.6355],\n",
            "        [0.6295, 0.6371]])\n",
            "tensor([[0.4280, 0.9759],\n",
            "        [0.3795, 0.6067]])\n",
            "tensor([[0.8799, 1.6114],\n",
            "        [1.0090, 1.2438]])\n",
            "result :  tensor([[0.8799, 1.6114],\n",
            "        [1.0090, 1.2438]])\n"
          ]
        },
        {
          "output_type": "stream",
          "name": "stderr",
          "text": [
            "<ipython-input-25-dd15ba8ad9bf>:8: UserWarning: An output with one or more elements was resized since it had shape [2, 4], which does not match the required output shape [2, 2]. This behavior is deprecated, and in a future PyTorch release outputs will not be resized unless they have zero elements. You can explicitly reuse an out tensor t by resizing it, inplace, to zero elements with t.resize_(0). (Triggered internally at ../aten/src/ATen/native/Resize.cpp:26.)\n",
            "  torch.add(x,y,out=result)\n"
          ]
        }
      ]
    },
    {
      "cell_type": "markdown",
      "source": [
        "in-place 방식\n",
        "\n",
        "\n",
        "*   in-place방식으로 텐서의 값을 변경하는 연산 뒤에 '_'가 붙음\n",
        "*   x.copy(y), x.t_()\n",
        "\n"
      ],
      "metadata": {
        "id": "zZaNa8pQMFCM"
      }
    },
    {
      "cell_type": "code",
      "source": [
        "# 한 마디로 복사하는 것임\n",
        "print(x)\n",
        "print(y)\n",
        "y.add_(x) # y에 x를 더한 결과를 y에 저장 (in-place 연산)\n",
        "print(y)\n"
      ],
      "metadata": {
        "id": "zZEoZvK2MFSG"
      },
      "execution_count": null,
      "outputs": []
    },
    {
      "cell_type": "markdown",
      "source": [],
      "metadata": {
        "id": "qC_BMpdQMFd1"
      }
    },
    {
      "cell_type": "code",
      "source": [],
      "metadata": {
        "id": "n6QwTDfNMFkV"
      },
      "execution_count": null,
      "outputs": []
    }
  ]
}