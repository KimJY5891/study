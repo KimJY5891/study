{
  "nbformat": 4,
  "nbformat_minor": 0,
  "metadata": {
    "colab": {
      "provenance": [],
      "gpuType": "T4"
    },
    "kernelspec": {
      "name": "python3",
      "display_name": "Python 3"
    },
    "language_info": {
      "name": "python"
    },
    "accelerator": "GPU"
  },
  "cells": [
    {
      "cell_type": "markdown",
      "source": [
        "#   신경망 구성\n",
        "*    레이어(layer) : 신경망의 핵심 데이터 구조로 하나 이상의 텐서를 입력 받아\n",
        "*    모듈(module) :  한 개 이상의 계층이 모여서 구성\n",
        "*    모델(model) : 한 개 이상의 모듈이 모여서 구성"
      ],
      "metadata": {
        "id": "wOaq7tFRIrDn"
      }
    },
    {
      "cell_type": "markdown",
      "source": [
        "torch.nn 패키지\n",
        "\n",
        "주로 가중치(weights),편향(bias)값들이 내부에서 자동으로 생성되는 레이어들을 사용할 때 사용 (weight값들을 직접 선언 안함)\n",
        "\n",
        "https://pytorch.org/docs/stable/nn.html"
      ],
      "metadata": {
        "id": "nJ4Lifk6I7jm"
      }
    },
    {
      "cell_type": "code",
      "source": [
        "import torch.nn as nn\n",
        "import torch"
      ],
      "metadata": {
        "id": "ROP-Ri89IqXJ"
      },
      "execution_count": 1,
      "outputs": []
    },
    {
      "cell_type": "markdown",
      "source": [
        "nn.Linear 계층 예제"
      ],
      "metadata": {
        "id": "Cp6ivwrkNutN"
      }
    },
    {
      "cell_type": "code",
      "source": [
        "input = torch.randn(128,20)\n",
        "print(input)\n",
        "\n",
        "m = nn.Linear(20,30) # nn.Linear(in_feature,out_feature)\n",
        "\n",
        "output = m(input)\n",
        "print(output)\n",
        "print(output.size()) # (128,30)"
      ],
      "metadata": {
        "colab": {
          "base_uri": "https://localhost:8080/"
        },
        "id": "5m6iwt6VNuyX",
        "outputId": "02dca842-cbad-4dd0-e260-0e23e420943d"
      },
      "execution_count": 2,
      "outputs": [
        {
          "output_type": "stream",
          "name": "stdout",
          "text": [
            "tensor([[-0.5200,  0.2276,  1.6099,  ...,  0.0247, -1.3127,  2.1366],\n",
            "        [-0.4135,  1.1911,  0.1845,  ..., -0.5284,  2.2625, -0.3976],\n",
            "        [ 0.5068, -0.7452,  0.7320,  ...,  0.0194, -0.7261,  2.0830],\n",
            "        ...,\n",
            "        [-2.1577, -0.5761, -0.3858,  ..., -0.6736, -0.6149, -0.5192],\n",
            "        [ 0.5571,  0.2081,  0.3647,  ..., -1.3450, -0.4663,  0.2876],\n",
            "        [-0.2863, -1.6707, -0.7375,  ...,  1.3619,  0.4700,  1.0042]])\n",
            "tensor([[ 0.2351,  0.3576,  1.4227,  ..., -0.8860, -0.2117, -0.0896],\n",
            "        [ 0.0471, -1.2750, -1.5853,  ...,  0.7912,  0.5227, -0.1612],\n",
            "        [ 0.3328, -0.5783, -1.1429,  ...,  0.4948,  0.2886, -0.0445],\n",
            "        ...,\n",
            "        [-0.3733,  0.0324,  0.7707,  ...,  0.0360, -0.3379,  0.0379],\n",
            "        [ 0.0981,  0.1904, -0.4269,  ..., -0.0488,  0.4735,  0.0459],\n",
            "        [ 0.3181, -0.3001, -0.4779,  ...,  0.1892, -0.4167,  0.7927]],\n",
            "       grad_fn=<AddmmBackward0>)\n",
            "torch.Size([128, 30])\n"
          ]
        }
      ]
    },
    {
      "cell_type": "markdown",
      "source": [
        "nn.Conv2d 계층 예시"
      ],
      "metadata": {
        "id": "rIqln6kAOODU"
      }
    },
    {
      "cell_type": "code",
      "source": [
        "input = torch.randn(20,16,50,100)\n",
        "print(input.size()) # (128,30)"
      ],
      "metadata": {
        "colab": {
          "base_uri": "https://localhost:8080/"
        },
        "id": "B6ZjbGrKOOKw",
        "outputId": "6bf90363-bb94-4c0b-c457-cbff5cd42956"
      },
      "execution_count": 3,
      "outputs": [
        {
          "output_type": "stream",
          "name": "stdout",
          "text": [
            "torch.Size([20, 16, 50, 100])\n"
          ]
        }
      ]
    },
    {
      "cell_type": "code",
      "source": [
        "m = nn.Conv2d(16,33,3,stride=2)\n",
        "m = nn.Conv2d(16,33,(3,5),stride=(2,1),padding=(4,2))\n",
        "m = nn.Conv2d(16,33,(3,5),stride=(2,1),padding=(4,2),dilation=(3,1))\n",
        "print(m)"
      ],
      "metadata": {
        "colab": {
          "base_uri": "https://localhost:8080/"
        },
        "id": "ttqDsOX1QOFA",
        "outputId": "26ca537c-25e8-4387-cee3-8bf9dcdaa66f"
      },
      "execution_count": 4,
      "outputs": [
        {
          "output_type": "stream",
          "name": "stdout",
          "text": [
            "Conv2d(16, 33, kernel_size=(3, 5), stride=(2, 1), padding=(4, 2), dilation=(3, 1))\n"
          ]
        }
      ]
    },
    {
      "cell_type": "code",
      "source": [
        "output = m(input)\n",
        "print(output.size())"
      ],
      "metadata": {
        "colab": {
          "base_uri": "https://localhost:8080/"
        },
        "id": "1sgob709Q8Cy",
        "outputId": "e7728550-e3cf-4c7f-e8cb-348f74cf2458"
      },
      "execution_count": 5,
      "outputs": [
        {
          "output_type": "stream",
          "name": "stdout",
          "text": [
            "torch.Size([20, 33, 26, 100])\n"
          ]
        }
      ]
    },
    {
      "cell_type": "markdown",
      "source": [
        "#     컨볼루션 레이어(Convolution Layers)\n",
        "nn.Con2d 예제\n",
        "*     in_channels : channel의 갯수\n",
        "*     out_channels : 출력 채널의 갯수\n",
        "*     kernel_size : 커널(필터) 사이즈\n"
      ],
      "metadata": {
        "id": "I8EmiwFlOYmO"
      }
    },
    {
      "cell_type": "code",
      "source": [
        "nn.Conv2d(in_channels=1,out_channels=20,kernel_size=5, stride=1)"
      ],
      "metadata": {
        "colab": {
          "base_uri": "https://localhost:8080/"
        },
        "id": "_MP5P9TDLSpV",
        "outputId": "613bd13d-2104-4f43-fcbf-3033a6d82da9"
      },
      "execution_count": 6,
      "outputs": [
        {
          "output_type": "execute_result",
          "data": {
            "text/plain": [
              "Conv2d(1, 20, kernel_size=(5, 5), stride=(1, 1))"
            ]
          },
          "metadata": {},
          "execution_count": 6
        }
      ]
    },
    {
      "cell_type": "code",
      "source": [
        "layer= nn.Conv2d(1,20,5,1).to(torch.device('cpu'))\n",
        "layer"
      ],
      "metadata": {
        "colab": {
          "base_uri": "https://localhost:8080/"
        },
        "id": "X6aTsYl_LbfQ",
        "outputId": "bb6164da-f636-4666-8893-593f3675d5a7"
      },
      "execution_count": 7,
      "outputs": [
        {
          "output_type": "execute_result",
          "data": {
            "text/plain": [
              "Conv2d(1, 20, kernel_size=(5, 5), stride=(1, 1))"
            ]
          },
          "metadata": {},
          "execution_count": 7
        }
      ]
    },
    {
      "cell_type": "markdown",
      "source": [
        "weight 확인"
      ],
      "metadata": {
        "id": "6go6UEMvMOD9"
      }
    },
    {
      "cell_type": "code",
      "source": [
        "weight = layer.weight\n",
        "weight.shape\n",
        "# 컨볼루션 2d 만들었던 계층에 대한 웨이트에 대해서 shape가 나온다."
      ],
      "metadata": {
        "id": "g60xcQH9OXsr",
        "colab": {
          "base_uri": "https://localhost:8080/"
        },
        "outputId": "c01fdc28-3e21-465a-bdc5-63ac9b1f0f23"
      },
      "execution_count": 18,
      "outputs": [
        {
          "output_type": "execute_result",
          "data": {
            "text/plain": [
              "torch.Size([20, 1, 5, 5])"
            ]
          },
          "metadata": {},
          "execution_count": 18
        }
      ]
    },
    {
      "cell_type": "markdown",
      "source": [
        "weight는 detach()를 통해 꺼내줘야 numpy() 변환 가능"
      ],
      "metadata": {
        "id": "da4scs61Mn8S"
      }
    },
    {
      "cell_type": "code",
      "source": [
        "weight = weight.detach()"
      ],
      "metadata": {
        "id": "STJexE_jMnJF"
      },
      "execution_count": 19,
      "outputs": []
    },
    {
      "cell_type": "code",
      "source": [
        "weight = weight.numpy()\n",
        "weight.shape"
      ],
      "metadata": {
        "colab": {
          "base_uri": "https://localhost:8080/"
        },
        "id": "exWVPTPpYRGn",
        "outputId": "a5b59463-2954-46f1-c63d-ff90b4561b94"
      },
      "execution_count": 10,
      "outputs": [
        {
          "output_type": "execute_result",
          "data": {
            "text/plain": [
              "(20, 1, 5, 5)"
            ]
          },
          "metadata": {},
          "execution_count": 10
        }
      ]
    },
    {
      "cell_type": "code",
      "source": [
        "import matplotlib.pyplot as plt\n",
        "plt.imshow(weight[0,0,:,:],'jet')\n",
        "plt.colorbar()\n",
        "plt.show()"
      ],
      "metadata": {
        "colab": {
          "base_uri": "https://localhost:8080/",
          "height": 430
        },
        "id": "b99Xr_odYWjK",
        "outputId": "6139e7fd-f7d7-4b38-a711-6ff9577489a2"
      },
      "execution_count": 15,
      "outputs": [
        {
          "output_type": "display_data",
          "data": {
            "text/plain": [
              "<Figure size 640x480 with 2 Axes>"
            ],
            "image/png": "[encoded data removed]"
          },
          "metadata": {}
        }
      ]
    }
  ]
}
