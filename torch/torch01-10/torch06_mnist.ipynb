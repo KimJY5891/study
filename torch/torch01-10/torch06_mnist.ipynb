{
  "nbformat": 4,
  "nbformat_minor": 0,
  "metadata": {
    "colab": {
      "provenance": [],
      "gpuType": "T4"
    },
    "kernelspec": {
      "name": "python3",
      "display_name": "Python 3"
    },
    "language_info": {
      "name": "python"
    },
    "accelerator": "GPU"
  },
  "cells": [
    {
      "cell_type": "markdown",
      "source": [
        "#    데이터 준비\n",
        "파이토치에서는 데이터 준비를 위해 torch.utils.data의 Dataset과 DataLoader 사용 가능\n",
        "*    Dataset에는 다양한 데이터 셋이 존재(MNIST, FashionMNIST,CIFAR10 ...)\n",
        "\n",
        "  *   Vision Dataset : http://pytorch.org/vision/stable/datasets.html\n",
        "  *   Text Dataset : http://pytorch.org/text/stable/datasets.html\n",
        "  *   Audio Dataset : http://pytorch.org/audio/stable/datasets.html\n",
        "\n",
        "*    DataLoader와 Dataset을 통해 batch_size, train 여부, transform 등을 인자로 넣어 데이터를 어떻게 load할 것인지 정해 줄 수 있음\n"
      ],
      "metadata": {
        "id": "g9B-P65Dth5f"
      }
    },
    {
      "cell_type": "code",
      "source": [
        "from torch.utils.data import Dataset, DataLoader"
      ],
      "metadata": {
        "id": "uiqrVSYzuZxk"
      },
      "execution_count": 235,
      "outputs": []
    },
    {
      "cell_type": "code",
      "source": [
        "import torch"
      ],
      "metadata": {
        "id": "BG5TA4443KbN"
      },
      "execution_count": 236,
      "outputs": []
    },
    {
      "cell_type": "markdown",
      "source": [
        "토치비전(torchvision)은 파이토치에서 제공하는 데이터셋들이 모여있는 패키지\n",
        "\n",
        "\n",
        "*   transforms : 전처리 할 때 사용하는 메소드(http://pytorch.org/docs/stable/torchvision/transforms.html)\n",
        "*   transforms에서 제공하는 클래스이외는 일반적으로 클래스를 따로 만들어 전처리 단계를 진행\n",
        "\n"
      ],
      "metadata": {
        "id": "kOFJteiZuvhA"
      }
    },
    {
      "cell_type": "code",
      "source": [
        "import torchvision.transforms as transforms\n",
        "from torchvision import datasets"
      ],
      "metadata": {
        "id": "kgCMFpDFvLcT"
      },
      "execution_count": 237,
      "outputs": []
    },
    {
      "cell_type": "markdown",
      "source": [
        "DataLoder의 인자로 들어갈 transform을 미리 정의할 수 있고, Compose를 통해 리스트 안에 순서대로 전처리 진행\n",
        "ToTensor()를 하는 이유는 torchvision이 PIL Image 형태로만 입력을 받기 때문에 데이터 처리를 위해서 Tensor형으로 변환 필요"
      ],
      "metadata": {
        "id": "KHWtZUEXvnlV"
      }
    },
    {
      "cell_type": "code",
      "source": [
        "mnist_transform = transforms.Compose([transforms.ToTensor(),\n",
        "                                      transforms.Normalize(mean=(0.5,),std=(1.0,))]) # 평균 0.5, 표준편차 1로 노말라이제이션해줘"
      ],
      "metadata": {
        "id": "nfZyp8V3v4X8"
      },
      "execution_count": 238,
      "outputs": []
    },
    {
      "cell_type": "code",
      "source": [
        "trainset = datasets.MNIST(root='/content/',\n",
        "                          train=True,download=True,\n",
        "                          transform=mnist_transform)\n",
        "testset = datasets.MNIST(root='/content/',\n",
        "                          train=False,download=True,\n",
        "                          transform=mnist_transform)"
      ],
      "metadata": {
        "id": "RtIY71G8v4hN"
      },
      "execution_count": 239,
      "outputs": []
    },
    {
      "cell_type": "markdown",
      "source": [
        "DataLoader는 데이터 전체를 보관했다가 실제 모델 학습을 할 때 batch_size 크기 만큼 데이터를 가져옴"
      ],
      "metadata": {
        "id": "hTkV1kjNyfJr"
      }
    },
    {
      "cell_type": "code",
      "source": [
        "train_loader = DataLoader(trainset, batch_size=8,shuffle=True, num_workers=2)\n",
        "test_loader = DataLoader(testset, batch_size=8,shuffle=True, num_workers=2)"
      ],
      "metadata": {
        "id": "rgOWz_GqyhYq"
      },
      "execution_count": 240,
      "outputs": []
    },
    {
      "cell_type": "code",
      "source": [
        "dataiter = iter(train_loader)\n",
        "images, labels =next(dataiter)\n",
        "images.shape, labels.shape"
      ],
      "metadata": {
        "colab": {
          "base_uri": "https://localhost:8080/"
        },
        "id": "J7jWChiQyyfI",
        "outputId": "e06b2f29-e9d5-42a1-a8cc-4fa124f3ea8b"
      },
      "execution_count": 241,
      "outputs": [
        {
          "output_type": "execute_result",
          "data": {
            "text/plain": [
              "(torch.Size([8, 1, 28, 28]), torch.Size([8]))"
            ]
          },
          "metadata": {},
          "execution_count": 241
        }
      ]
    },
    {
      "cell_type": "code",
      "source": [
        "torch_image = torch.squeeze(images[0])\n",
        "torch_image.shape"
      ],
      "metadata": {
        "colab": {
          "base_uri": "https://localhost:8080/"
        },
        "id": "ryrpKHpQyyhx",
        "outputId": "1fee29dc-341f-48cd-f326-6b2b80a41402"
      },
      "execution_count": 242,
      "outputs": [
        {
          "output_type": "execute_result",
          "data": {
            "text/plain": [
              "torch.Size([28, 28])"
            ]
          },
          "metadata": {},
          "execution_count": 242
        }
      ]
    },
    {
      "cell_type": "code",
      "source": [
        "import matplotlib.pyplot as plt\n",
        "\n",
        "figure= plt.figure(figsize=(12,6))\n",
        "cols, rows = 4,2\n",
        "for i in range(1, cols * rows + 1) :\n",
        "  sample_idx = torch.randint(len(trainset), size=(1,)).item()\n",
        "\n",
        "  img, label = trainset[sample_idx]\n",
        "  figure.add_subplot(rows,cols,i)\n",
        "  plt.title(label)\n",
        "  plt.axis('off')\n",
        "  plt.imshow(img.squeeze(),cmap='gray')\n",
        "plt.show()"
      ],
      "metadata": {
        "colab": {
          "base_uri": "https://localhost:8080/",
          "height": 393
        },
        "id": "9HE3ZKiMyhcq",
        "outputId": "2cc3a295-cbd3-437d-8127-c794bded5b77"
      },
      "execution_count": 243,
      "outputs": [
        {
          "output_type": "display_data",
          "data": {
            "text/plain": [
              "<Figure size 1200x600 with 8 Axes>"
            ],
            "image/png": "[encoded data removed]"
          },
          "metadata": {}
        }
      ]
    },
    {
      "cell_type": "code",
      "source": [
        "print(images.shape)\n",
        "print(images[0].size())\n",
        "\n",
        "input_image = torch.squeeze(images[0])\n",
        "print(input_image.size())"
      ],
      "metadata": {
        "colab": {
          "base_uri": "https://localhost:8080/"
        },
        "id": "8EGYGe8kcLCX",
        "outputId": "97ac7119-1e09-4b5d-b20a-9f89480a252d"
      },
      "execution_count": 244,
      "outputs": [
        {
          "output_type": "stream",
          "name": "stdout",
          "text": [
            "torch.Size([8, 1, 28, 28])\n",
            "torch.Size([1, 28, 28])\n",
            "torch.Size([28, 28])\n"
          ]
        }
      ]
    },
    {
      "cell_type": "code",
      "source": [
        "import torch.nn as nn\n",
        "# 2. 모델 구성\n",
        "layer= nn.Conv2d(1,64,5,1).to(torch.device('cpu'))"
      ],
      "metadata": {
        "id": "iO5q16s2OfyG"
      },
      "execution_count": 245,
      "outputs": []
    },
    {
      "cell_type": "code",
      "source": [
        "input_data = torch.unsqueeze(images[0],dim=0)\n",
        "print(input_data.size())\n",
        "# torch.Size([1, 1, 28, 28]) => 흑백 사진 한 장\n",
        "# [배치사이즈, 채널, 너비,높이]\n",
        "output_data = layer(input_data)\n",
        "output = output_data.data\n",
        "'''\n",
        ".data 속성은 텐서의 데이터에 직접 접근하는 데 사용되며, 기울기 계산과는 관련이 없습니다.\n",
        "그러나 이 방법은 최신 버전의 PyTorch에서 권장되지 않습니다.\n",
        "대신 .detach() 메서드를 사용하여 동일한 결과를 얻을 수 있습니다.\n",
        "'''\n",
        "output_arr = output.numpy()\n",
        "output_arr.shape"
      ],
      "metadata": {
        "colab": {
          "base_uri": "https://localhost:8080/"
        },
        "id": "0Bu53YhocoZx",
        "outputId": "30628860-db2a-4989-bfb5-32e7506ff3d6"
      },
      "execution_count": 246,
      "outputs": [
        {
          "output_type": "stream",
          "name": "stdout",
          "text": [
            "torch.Size([1, 1, 28, 28])\n"
          ]
        },
        {
          "output_type": "execute_result",
          "data": {
            "text/plain": [
              "(1, 64, 24, 24)"
            ]
          },
          "metadata": {},
          "execution_count": 246
        }
      ]
    },
    {
      "cell_type": "code",
      "source": [
        "weight = layer.weight\n",
        "weight = weight.detach()\n",
        "weight = weight.numpy()\n",
        "'''\n",
        "위의 오류 메시지는 nn.Sequential 객체에서 직접적으로\n",
        "'weight' 속성을 가져오려고 했기 때문에 발생했습니다.\n",
        "nn.Sequential 객체는 여러 레이어를 담는 컨테이너이므로\n",
        "각 레이어의 속성을 직접 가져올 수 없습니다.\n",
        "\n",
        "레이어 내의 weight를 가져오려면, 먼저 해당 레이어를 참조해야 합니다.\n",
        "예를 들어, 첫 번째 레이어의 weight를 가져오려면 다음과 같이 할 수 있습니다:\n",
        "\n",
        "weight = layer[0].weight\n",
        "\n",
        "그러나, 여기서 중요한 것은 layer[0]이 실제로 Conv2d와 같은 가중치를 갖는 레이어인지 확인하는 것입니다.\n",
        "위의 코드를 참고하여, 원하는 레이어의 가중치를 추출하는 방법을 사용해보세요.\n",
        "'''\n",
        "weight.shape"
      ],
      "metadata": {
        "colab": {
          "base_uri": "https://localhost:8080/"
        },
        "id": "S-d8G4xsTAnc",
        "outputId": "d2c4c933-6879-4485-b528-b697cf14ac97"
      },
      "execution_count": 247,
      "outputs": [
        {
          "output_type": "execute_result",
          "data": {
            "text/plain": [
              "(64, 1, 5, 5)"
            ]
          },
          "metadata": {},
          "execution_count": 247
        }
      ]
    },
    {
      "cell_type": "code",
      "source": [
        "plt.figure(figsize=(15,30))\n",
        "plt.subplot(131)\n",
        "plt.title(\"input\")\n",
        "plt.imshow(input_image,'gray')\n",
        "\n",
        "plt.subplot(132)\n",
        "plt.title('weight')\n",
        "plt.imshow(weight[0,0,:,:],'gray')\n",
        "\n",
        "plt.subplot(133)\n",
        "# 1: 전체 행의 수 (1행)\n",
        "# 3: 전체 열의 수 (3열)\n",
        "# 3: 현재 그림의 위치 (3번째)\n",
        "plt.title('Output')\n",
        "plt.imshow(output_arr[0,0,:,:],'gray')\n",
        "plt.show()"
      ],
      "metadata": {
        "id": "-C4GolF9faZ6",
        "colab": {
          "base_uri": "https://localhost:8080/",
          "height": 260
        },
        "outputId": "aa6dd259-ed5c-44b3-c879-be25a1c2efb6"
      },
      "execution_count": 249,
      "outputs": [
        {
          "output_type": "display_data",
          "data": {
            "text/plain": [
              "<Figure size 1500x3000 with 3 Axes>"
            ],
            "image/png": "[encoded data removed]"
          },
          "metadata": {}
        }
      ]
    }
  ]
}