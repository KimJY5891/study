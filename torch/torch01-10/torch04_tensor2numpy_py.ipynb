{
  "nbformat": 4,
  "nbformat_minor": 0,
  "metadata": {
    "colab": {
      "provenance": []
    },
    "kernelspec": {
      "name": "python3",
      "display_name": "Python 3"
    },
    "language_info": {
      "name": "python"
    }
  },
  "cells": [
    {
      "cell_type": "markdown",
      "source": [
        "torch <-> numpy\n",
        "\n",
        "\n",
        "*   Torch Tensor(텐서)를 NumPy array(배열)로 변환 가능\n",
        "> -   numpy()\n",
        "> -   from_numpy()\n",
        "*   Tensor가 CPU상에 있다면 NumPY 배열은 메모리 공간을 공유하므로 하나가 변하면, 다른 하나도 변함\n",
        "\n"
      ],
      "metadata": {
        "id": "aom7wQgaNAfN"
      }
    },
    {
      "cell_type": "code",
      "source": [
        "import torch\n",
        "a = torch.ones(7)\n",
        "print(a)"
      ],
      "metadata": {
        "colab": {
          "base_uri": "https://localhost:8080/"
        },
        "id": "NJuh-vCSM_8q",
        "outputId": "b1e86689-618c-4674-976c-22fcb0eb0fb9"
      },
      "execution_count": 2,
      "outputs": [
        {
          "output_type": "stream",
          "name": "stdout",
          "text": [
            "tensor([1., 1., 1., 1., 1., 1., 1.])\n"
          ]
        }
      ]
    },
    {
      "cell_type": "code",
      "source": [
        "b = a.numpy()\n",
        "print(b) # tensor가 사라지고 넘파이 형태(배열)로 나타난다."
      ],
      "metadata": {
        "colab": {
          "base_uri": "https://localhost:8080/"
        },
        "id": "LOij8eghNACL",
        "outputId": "4a4766be-557e-4c76-f473-76ac539fd1fc"
      },
      "execution_count": 6,
      "outputs": [
        {
          "output_type": "stream",
          "name": "stdout",
          "text": [
            "[1. 1. 1. 1. 1. 1. 1.]\n",
            "float32\n"
          ]
        }
      ]
    },
    {
      "cell_type": "code",
      "source": [
        "a.add_(1)\n",
        "print(a)\n",
        "print(b)"
      ],
      "metadata": {
        "colab": {
          "base_uri": "https://localhost:8080/"
        },
        "id": "BuNbC1_ZOxbS",
        "outputId": "395a8e5f-1042-4ba0-a071-e41bd5b0fe98"
      },
      "execution_count": 10,
      "outputs": [
        {
          "output_type": "stream",
          "name": "stdout",
          "text": [
            "tensor([4., 4., 4., 4., 4., 4., 4.])\n",
            "[4. 4. 4. 4. 4. 4. 4.]\n"
          ]
        }
      ]
    },
    {
      "cell_type": "code",
      "source": [
        "import numpy as np\n",
        "a = np.ones(7)\n",
        "b = torch.from_numpy(a) # numpy -> tensor\n",
        "print(a)\n",
        "print(b)\n",
        "np.add(a,1,out=a) # torch랑 넘파이랑 메모리를 공유한다. # cpu의 경우에만 해당되며 gpu는 서로 메모리가 달라서 안되는거같다.\n",
        "print(a)\n",
        "print(b)"
      ],
      "metadata": {
        "colab": {
          "base_uri": "https://localhost:8080/"
        },
        "id": "BytZ0_UcPEoN",
        "outputId": "06f8beca-ce4c-4cf4-9eed-4eed40daba61"
      },
      "execution_count": 13,
      "outputs": [
        {
          "output_type": "stream",
          "name": "stdout",
          "text": [
            "[1. 1. 1. 1. 1. 1. 1.]\n",
            "tensor([1., 1., 1., 1., 1., 1., 1.], dtype=torch.float64)\n",
            "[2. 2. 2. 2. 2. 2. 2.]\n",
            "tensor([2., 2., 2., 2., 2., 2., 2.], dtype=torch.float64)\n"
          ]
        }
      ]
    }
  ]
}