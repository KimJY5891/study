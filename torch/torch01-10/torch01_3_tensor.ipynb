{
  "nbformat": 4,
  "nbformat_minor": 0,
  "metadata": {
    "colab": {
      "provenance": [],
      "gpuType": "T4"
    },
    "kernelspec": {
      "name": "python3",
      "display_name": "Python 3"
    },
    "language_info": {
      "name": "python"
    },
    "accelerator": "GPU"
  },
  "cells": [
    {
      "cell_type": "code",
      "execution_count": null,
      "metadata": {
        "colab": {
          "base_uri": "https://localhost:8080/"
        },
        "id": "iaYBx5K7K4Ds",
        "outputId": "c8014063-8bd2-4f9d-dac1-b350df2fca1f"
      },
      "outputs": [
        {
          "output_type": "stream",
          "name": "stdout",
          "text": [
            "Looking in indexes: https://pypi.org/simple, https://download.pytorch.org/whl/cu116\n",
            "Collecting torch==1.13.1+cu116\n",
            "  Downloading https://download.pytorch.org/whl/cu116/torch-1.13.1%2Bcu116-cp310-cp310-linux_x86_64.whl (1977.9 MB)\n",
            "\u001b[2K     \u001b[90m━━━━━━━━━━━━━━━━━━━━━━━━━━━━━━━━━━━━━━━━\u001b[0m \u001b[32m2.0/2.0 GB\u001b[0m \u001b[31m529.3 kB/s\u001b[0m eta \u001b[36m0:00:00\u001b[0m\n",
            "\u001b[?25hCollecting torchvision==0.14.1+cu116\n",
            "  Downloading https://download.pytorch.org/whl/cu116/torchvision-0.14.1%2Bcu116-cp310-cp310-linux_x86_64.whl (24.2 MB)\n",
            "\u001b[2K     \u001b[90m━━━━━━━━━━━━━━━━━━━━━━━━━━━━━━━━━━━━━━━━\u001b[0m \u001b[32m24.2/24.2 MB\u001b[0m \u001b[31m44.9 MB/s\u001b[0m eta \u001b[36m0:00:00\u001b[0m\n",
            "\u001b[?25hCollecting torchaudio==0.13.1\n",
            "  Downloading https://download.pytorch.org/whl/cu116/torchaudio-0.13.1%2Bcu116-cp310-cp310-linux_x86_64.whl (4.2 MB)\n",
            "\u001b[2K     \u001b[90m━━━━━━━━━━━━━━━━━━━━━━━━━━━━━━━━━━━━━━━━\u001b[0m \u001b[32m4.2/4.2 MB\u001b[0m \u001b[31m57.9 MB/s\u001b[0m eta \u001b[36m0:00:00\u001b[0m\n",
            "\u001b[?25hRequirement already satisfied: typing-extensions in /usr/local/lib/python3.10/dist-packages (from torch==1.13.1+cu116) (4.7.1)\n",
            "Requirement already satisfied: numpy in /usr/local/lib/python3.10/dist-packages (from torchvision==0.14.1+cu116) (1.23.5)\n",
            "Requirement already satisfied: requests in /usr/local/lib/python3.10/dist-packages (from torchvision==0.14.1+cu116) (2.31.0)\n",
            "Requirement already satisfied: pillow!=8.3.*,>=5.3.0 in /usr/local/lib/python3.10/dist-packages (from torchvision==0.14.1+cu116) (9.4.0)\n",
            "Requirement already satisfied: charset-normalizer<4,>=2 in /usr/local/lib/python3.10/dist-packages (from requests->torchvision==0.14.1+cu116) (3.2.0)\n",
            "Requirement already satisfied: idna<4,>=2.5 in /usr/local/lib/python3.10/dist-packages (from requests->torchvision==0.14.1+cu116) (3.4)\n",
            "Requirement already satisfied: urllib3<3,>=1.21.1 in /usr/local/lib/python3.10/dist-packages (from requests->torchvision==0.14.1+cu116) (2.0.4)\n",
            "Requirement already satisfied: certifi>=2017.4.17 in /usr/local/lib/python3.10/dist-packages (from requests->torchvision==0.14.1+cu116) (2023.7.22)\n",
            "Installing collected packages: torch, torchvision, torchaudio\n",
            "  Attempting uninstall: torch\n",
            "    Found existing installation: torch 2.0.1+cu118\n",
            "    Uninstalling torch-2.0.1+cu118:\n"
          ]
        }
      ],
      "source": [
        "!pip install torch==1.13.1+cu116 torchvision==0.14.1+cu116 torchaudio==0.13.1 --extra-index-url https://download.pytorch.org/whl/cu116\n",
        "import torch"
      ]
    },
    {
      "cell_type": "markdown",
      "source": [
        "# 다차원 텐서 표현\n",
        "\n",
        "0D Tensor(scalar)\n",
        "*   하나의 숫자를 담고 있는 텐서\n",
        "*   축(rank)과 현상(shape)이 없음\n"
      ],
      "metadata": {
        "id": "KGtq_giUMYc0"
      }
    },
    {
      "cell_type": "code",
      "source": [
        "t0 = torch.tensor(0)\n",
        "print(t0.ndim) # 차원 정보\n",
        "print(t0.shape)\n",
        "print(t0)"
      ],
      "metadata": {
        "id": "57DGr5h7MYjS",
        "colab": {
          "base_uri": "https://localhost:8080/",
          "height": 230
        },
        "outputId": "fcd31fe9-858c-44eb-d1eb-b86ea5553da7"
      },
      "execution_count": 1,
      "outputs": [
        {
          "output_type": "error",
          "ename": "NameError",
          "evalue": "ignored",
          "traceback": [
            "\u001b[0;31m---------------------------------------------------------------------------\u001b[0m",
            "\u001b[0;31mNameError\u001b[0m                                 Traceback (most recent call last)",
            "\u001b[0;32m<ipython-input-1-82f0b43088c4>\u001b[0m in \u001b[0;36m<cell line: 1>\u001b[0;34m()\u001b[0m\n\u001b[0;32m----> 1\u001b[0;31m \u001b[0mt0\u001b[0m \u001b[0;34m=\u001b[0m \u001b[0mtorch\u001b[0m\u001b[0;34m.\u001b[0m\u001b[0mtensor\u001b[0m\u001b[0;34m(\u001b[0m\u001b[0;36m0\u001b[0m\u001b[0;34m)\u001b[0m\u001b[0;34m\u001b[0m\u001b[0;34m\u001b[0m\u001b[0m\n\u001b[0m\u001b[1;32m      2\u001b[0m \u001b[0mprint\u001b[0m\u001b[0;34m(\u001b[0m\u001b[0mt0\u001b[0m\u001b[0;34m.\u001b[0m\u001b[0mndim\u001b[0m\u001b[0;34m)\u001b[0m \u001b[0;31m# 차원 정보\u001b[0m\u001b[0;34m\u001b[0m\u001b[0;34m\u001b[0m\u001b[0m\n\u001b[1;32m      3\u001b[0m \u001b[0mprint\u001b[0m\u001b[0;34m(\u001b[0m\u001b[0mt0\u001b[0m\u001b[0;34m.\u001b[0m\u001b[0mshape\u001b[0m\u001b[0;34m)\u001b[0m\u001b[0;34m\u001b[0m\u001b[0;34m\u001b[0m\u001b[0m\n\u001b[1;32m      4\u001b[0m \u001b[0mprint\u001b[0m\u001b[0;34m(\u001b[0m\u001b[0mt0\u001b[0m\u001b[0;34m)\u001b[0m\u001b[0;34m\u001b[0m\u001b[0;34m\u001b[0m\u001b[0m\n",
            "\u001b[0;31mNameError\u001b[0m: name 'torch' is not defined"
          ]
        }
      ]
    },
    {
      "cell_type": "markdown",
      "source": [
        "# 1D Tensor(Vector)\n",
        "\n",
        "\n",
        "*   값들을 저장한 리스트와 유사한 텐서\n",
        "*   하나의 축이 존재"
      ],
      "metadata": {
        "id": "m4VeQhqDMYpk"
      }
    },
    {
      "cell_type": "code",
      "source": [
        "t1 = torch.tensor([1,2,3])\n",
        "print(t1.ndim)\n",
        "print(t1.shape)\n",
        "print(t1)"
      ],
      "metadata": {
        "id": "SAcUE3ZWMYvu"
      },
      "execution_count": null,
      "outputs": []
    },
    {
      "cell_type": "markdown",
      "source": [
        "# 2D Tensor\n",
        "\n",
        "\n",
        "*   행렬과 같은 모양으로 두 개의 축이 존재\n",
        "*   일반적인 수치 통계 데이터셋이 해당\n",
        "*   주로 샘플(sample)과 특성(feature)을 가진 구조로 사용 ( 행 ; 샘플, 열 : 특성)"
      ],
      "metadata": {
        "id": "GwxG38fbMY5W"
      }
    },
    {
      "cell_type": "code",
      "source": [
        "t2 = torch.tensor([\n",
        "    [1,2,3],\n",
        "    [4,5,6]\n",
        "])\n",
        "print(t2.ndim)\n",
        "print(t2.shape)\n",
        "print(t2)"
      ],
      "metadata": {
        "id": "pBgOzihVMY-m"
      },
      "execution_count": null,
      "outputs": []
    },
    {
      "cell_type": "markdown",
      "source": [
        "# 3D Tensor\n",
        "\n",
        "*   큐브(cube)와 같은 모양으루 세 개의 축이 존재\n",
        "*   데이터가 연속된 시퀀스 데이터나 시간 축이 포함된 시계열 데이터에 해당\n",
        "*   주식 가격, 데이터셋, 시간에 따른 질병 발병 데이터 등이 존재\n",
        "*   주로 샘플(sample), 타임스탭(timesteps),특성(feature)을 가진 구조 사용\n",
        "\n"
      ],
      "metadata": {
        "id": "dZZ_moGZMZIM"
      }
    },
    {
      "cell_type": "code",
      "source": [
        "t3 = torch.tensor([\n",
        "    [[1,2,3],\n",
        "     [4,5,6],\n",
        "     [7,8,9] ],\n",
        "    [[1,2,3],\n",
        "     [4,5,6],\n",
        "     [7,8,9]],\n",
        "    [[1,2,3],\n",
        "     [4,5,6],\n",
        "     [7,8,9] ]\n",
        "])\n",
        "print(t3.ndim)\n",
        "\n",
        "print(t3.shape)\n",
        "print(t3)"
      ],
      "metadata": {
        "id": "ttI7skoTMZN9"
      },
      "execution_count": null,
      "outputs": []
    },
    {
      "cell_type": "markdown",
      "source": [
        "# 4D Tensor\n",
        "\n",
        "\n",
        "*   4개의 축\n",
        "*   컬러이미지 데이터가 대표적인 사례(흑백 이미지 데이터는 3D Tensor로 가능)\n",
        "*   주로 샘플(sample), 높이(height), 너비(width), 컬러 채널(channel)을 가진 구조로 사용\n",
        "\n"
      ],
      "metadata": {
        "id": "TMW0069hCA8n"
      }
    },
    {
      "cell_type": "markdown",
      "source": [
        "# 5D Tensor\n",
        "*   5개의 축\n",
        "*   비디오 데이터가 대표적인 사례\n",
        "*   주로 샘플,프레임,높이,너비,컬러 채널을 가진 구조로 사용\n",
        "(이미지가 연달아 있는 것이 비디오 데이터 구조)\n",
        "\n",
        "\n"
      ],
      "metadata": {
        "id": "FXN3UvxyCBjR"
      }
    }
  ]
}