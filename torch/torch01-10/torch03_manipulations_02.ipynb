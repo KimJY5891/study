{
  "nbformat": 4,
  "nbformat_minor": 0,
  "metadata": {
    "colab": {
      "provenance": []
    },
    "kernelspec": {
      "name": "python3",
      "display_name": "Python 3"
    },
    "language_info": {
      "name": "python"
    }
  },
  "cells": [
    {
      "cell_type": "markdown",
      "source": [
        "stack : 텐서간 결합"
      ],
      "metadata": {
        "id": "GSvIq7Vo8wcF"
      }
    },
    {
      "cell_type": "code",
      "source": [
        "import torch\n",
        "x = torch.FloatTensor([1,4])\n",
        "print(x)\n",
        "y = torch.FloatTensor([2,5])\n",
        "print(y)\n",
        "z = torch.FloatTensor([3,6])\n",
        "print(z)\n",
        "\n",
        "print(torch.stack([x,y,z])) # 텐서간의 결합"
      ],
      "metadata": {
        "colab": {
          "base_uri": "https://localhost:8080/"
        },
        "id": "J1ry4OPT8xwc",
        "outputId": "21405885-03ba-4037-dacb-f4deea79bbd8"
      },
      "execution_count": 3,
      "outputs": [
        {
          "output_type": "stream",
          "name": "stdout",
          "text": [
            "tensor([1., 4.])\n",
            "tensor([2., 5.])\n",
            "tensor([3., 6.])\n",
            "tensor([[1., 4.],\n",
            "        [2., 5.],\n",
            "        [3., 6.]])\n"
          ]
        }
      ]
    },
    {
      "cell_type": "markdown",
      "source": [
        "cat : 텐서를 결합하는 메소드(concatenate)\n",
        "*   넘파이의 stack과 유사하지만 쌓을 dim이 존재해야함\n",
        "*   해당 차원을 늘려준 후 결합\n",
        "\n"
      ],
      "metadata": {
        "id": "I5K7gQrL82cf"
      }
    },
    {
      "cell_type": "code",
      "source": [
        "# 디멘션으로 해당 차원을 늘려준다음에 해당 차원을 늘려준 후 결합\n",
        "a = torch.randn(1,3,3)\n",
        "print(a)\n",
        "b = torch.randn(1,3,3)\n",
        "print(b)\n",
        "c = torch.cat((a,b),dim=0) # a,b를 concatenate해줘, 디멘션은 0 차원 기준\n",
        "print(c)\n",
        "print(c.shape)"
      ],
      "metadata": {
        "colab": {
          "base_uri": "https://localhost:8080/"
        },
        "id": "emmMIiKu814L",
        "outputId": "a1a0d8f4-bef1-4f38-dbcf-1f823a482333"
      },
      "execution_count": 4,
      "outputs": [
        {
          "output_type": "stream",
          "name": "stdout",
          "text": [
            "tensor([[[ 0.1673, -1.8906, -0.9735],\n",
            "         [ 0.1240,  1.6538, -0.1694],\n",
            "         [ 0.8256, -0.5530,  0.6743]]])\n",
            "tensor([[[ 0.2411, -2.1453, -0.1905],\n",
            "         [ 0.3072, -0.0225, -0.2727],\n",
            "         [-0.3366, -0.7088,  1.1637]]])\n",
            "tensor([[[ 0.1673, -1.8906, -0.9735],\n",
            "         [ 0.1240,  1.6538, -0.1694],\n",
            "         [ 0.8256, -0.5530,  0.6743]],\n",
            "\n",
            "        [[ 0.2411, -2.1453, -0.1905],\n",
            "         [ 0.3072, -0.0225, -0.2727],\n",
            "         [-0.3366, -0.7088,  1.1637]]])\n",
            "torch.Size([2, 3, 3])\n"
          ]
        }
      ]
    },
    {
      "cell_type": "code",
      "source": [
        "c = torch.cat((a,b),dim=1) # 디멘션은 1차원 기준\n",
        "print(c)\n",
        "print(c.shape) # c.shape = c.size()"
      ],
      "metadata": {
        "colab": {
          "base_uri": "https://localhost:8080/"
        },
        "id": "0nkclNc39Fvn",
        "outputId": "4b934d9a-735e-467b-c6d7-8b400d07b884"
      },
      "execution_count": 5,
      "outputs": [
        {
          "output_type": "stream",
          "name": "stdout",
          "text": [
            "tensor([[[ 0.1673, -1.8906, -0.9735],\n",
            "         [ 0.1240,  1.6538, -0.1694],\n",
            "         [ 0.8256, -0.5530,  0.6743],\n",
            "         [ 0.2411, -2.1453, -0.1905],\n",
            "         [ 0.3072, -0.0225, -0.2727],\n",
            "         [-0.3366, -0.7088,  1.1637]]])\n",
            "torch.Size([1, 6, 3])\n"
          ]
        }
      ]
    },
    {
      "cell_type": "code",
      "source": [
        "c = torch.cat((a,b),dim=2) # 디멘션은 2차원 기준\n",
        "print(c)\n",
        "print(c.shape) # c.shape = c.size()"
      ],
      "metadata": {
        "colab": {
          "base_uri": "https://localhost:8080/"
        },
        "id": "wvIMNeYZ9Fxa",
        "outputId": "9e6493db-6f90-4cd9-f338-8b8aee3c003f"
      },
      "execution_count": 6,
      "outputs": [
        {
          "output_type": "stream",
          "name": "stdout",
          "text": [
            "tensor([[[ 0.1673, -1.8906, -0.9735,  0.2411, -2.1453, -0.1905],\n",
            "         [ 0.1240,  1.6538, -0.1694,  0.3072, -0.0225, -0.2727],\n",
            "         [ 0.8256, -0.5530,  0.6743, -0.3366, -0.7088,  1.1637]]])\n",
            "torch.Size([1, 3, 6])\n"
          ]
        }
      ]
    },
    {
      "cell_type": "markdown",
      "source": [
        "chunk : 텐서를 여러 개로 나눌 때 사용(몇 개로 나눌 것인가?)"
      ],
      "metadata": {
        "id": "RINByrPb9FL8"
      }
    },
    {
      "cell_type": "code",
      "source": [
        "tensor = torch.rand(3,6)\n",
        "print(tensor)\n",
        "t1,t2,t3 = torch.chunk(tensor,3,dim=1) # 변수 tensor를 3개로 나눠줘. 기준은 1번째 차원이야\n",
        "print(t1)\n",
        "print(t2)\n",
        "print(t3)\n",
        "'''\n",
        "tensor([[0.8722, 0.7617, / 0.4365, 0.2774, / 0.6725, 0.1190],\n",
        "        [0.0339, 0.1010, / 0.6085, 0.5499, / 0.7500, 0.9729],\n",
        "        [0.4590, 0.4374, / 0.8977, 0.6290, / 0.2681, 0.0691]])\n",
        "        2개 단위로 해서 3개로 나눠줌\n",
        "tensor([[0.8722, 0.7617],\n",
        "        [0.0339, 0.1010],\n",
        "        [0.4590, 0.4374]])\n",
        "tensor([[0.4365, 0.2774],\n",
        "        [0.6085, 0.5499],\n",
        "        [0.8977, 0.6290]])\n",
        "tensor([[0.6725, 0.1190],\n",
        "        [0.7500, 0.9729],\n",
        "        [0.2681, 0.0691]])\n",
        "'''\n"
      ],
      "metadata": {
        "colab": {
          "base_uri": "https://localhost:8080/",
          "height": 278
        },
        "id": "tLpvYEMl9EL2",
        "outputId": "1d47e62c-50f9-4f25-caeb-d3d4593fa47e"
      },
      "execution_count": 10,
      "outputs": [
        {
          "output_type": "stream",
          "name": "stdout",
          "text": [
            "tensor([[0.2330, 0.7696, 0.6933, 0.7004, 0.8159, 0.7537],\n",
            "        [0.4638, 0.0057, 0.7510, 0.8732, 0.0358, 0.2490],\n",
            "        [0.0797, 0.0212, 0.9815, 0.7622, 0.8219, 0.9210]])\n",
            "tensor([[0.2330, 0.7696],\n",
            "        [0.4638, 0.0057],\n",
            "        [0.0797, 0.0212]])\n",
            "tensor([[0.6933, 0.7004],\n",
            "        [0.7510, 0.8732],\n",
            "        [0.9815, 0.7622]])\n",
            "tensor([[0.8159, 0.7537],\n",
            "        [0.0358, 0.2490],\n",
            "        [0.8219, 0.9210]])\n"
          ]
        },
        {
          "output_type": "execute_result",
          "data": {
            "text/plain": [
              "'\\ntensor([[0.8722, 0.7617, / 0.4365, 0.2774, / 0.6725, 0.1190],\\n        [0.0339, 0.1010, / 0.6085, 0.5499, / 0.7500, 0.9729],\\n        [0.4590, 0.4374, / 0.8977, 0.6290, / 0.2681, 0.0691]])\\n        2개 단위로 해서 3개로 나눠줌\\ntensor([[0.8722, 0.7617],\\n        [0.0339, 0.1010],\\n        [0.4590, 0.4374]])\\ntensor([[0.4365, 0.2774],\\n        [0.6085, 0.5499],\\n        [0.8977, 0.6290]])\\ntensor([[0.6725, 0.1190],\\n        [0.7500, 0.9729],\\n        [0.2681, 0.0691]])\\n'"
            ],
            "application/vnd.google.colaboratory.intrinsic+json": {
              "type": "string"
            }
          },
          "metadata": {},
          "execution_count": 10
        }
      ]
    },
    {
      "cell_type": "markdown",
      "source": [
        "split : chunck와 동일한 기능이지만 조금 다름 (텐서의 크기는 몇인가?)"
      ],
      "metadata": {
        "id": "cCN2bKoXATRJ"
      }
    },
    {
      "cell_type": "code",
      "source": [
        "# 나눌 때 어떤 방식으로 나누는가의 차이\n",
        "tensor = torch.rand(3,6)\n",
        "t1,t2 = torch.split(tensor,3,dim=1) # 변수 tensor의 크기가 몇인지 지정하는 것\n",
        "# 청크와 스플릿이 동일한 인자인데도 나누는 방법이 다르다\n",
        "print(tensor)\n",
        "print(t1)\n",
        "print(t2)"
      ],
      "metadata": {
        "colab": {
          "base_uri": "https://localhost:8080/"
        },
        "id": "cGoZj6_OATZg",
        "outputId": "2820841c-462f-4591-b6ab-12210d5e4154"
      },
      "execution_count": 8,
      "outputs": [
        {
          "output_type": "stream",
          "name": "stdout",
          "text": [
            "tensor([[0.7847, 0.3454, 0.7728, 0.1853, 0.2052, 0.3158],\n",
            "        [0.9513, 0.9022, 0.1141, 0.8109, 0.3637, 0.2243],\n",
            "        [0.2328, 0.6953, 0.9126, 0.2111, 0.6650, 0.2681]])\n",
            "tensor([[0.7847, 0.3454, 0.7728],\n",
            "        [0.9513, 0.9022, 0.1141],\n",
            "        [0.2328, 0.6953, 0.9126]])\n",
            "tensor([[0.1853, 0.2052, 0.3158],\n",
            "        [0.8109, 0.3637, 0.2243],\n",
            "        [0.2111, 0.6650, 0.2681]])\n"
          ]
        }
      ]
    }
  ]
}